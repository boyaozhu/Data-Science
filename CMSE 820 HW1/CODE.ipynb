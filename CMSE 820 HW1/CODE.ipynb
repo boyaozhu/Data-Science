{
 "cells": [
  {
   "cell_type": "code",
   "execution_count": 16,
   "metadata": {},
   "outputs": [
    {
     "name": "stdout",
     "output_type": "stream",
     "text": [
      "118.33942090556093\n"
     ]
    },
    {
     "data": {
      "text/plain": [
       "'    \\npe = []\\nfor i in range(n):\\n    temp = beta_hat[i]\\n    PE = np.sum((Y-X.dot(temp))**2)\\n    pe.append(PE)\\npe = np.array(pe)/n\\n\\n#print (np.mean(pe))\\n'"
      ]
     },
     "execution_count": 16,
     "metadata": {},
     "output_type": "execute_result"
    }
   ],
   "source": [
    "# Question 4\n",
    "import matplotlib.pyplot as plt\n",
    "import numpy as np\n",
    "n = 5000\n",
    "p = 20\n",
    "Beta = np.zeros(p)\n",
    "Beta[0] = 1\n",
    "Beta[1] = -2\n",
    "Beta = Beta.reshape(p,1)\n",
    "COV = np.identity(p)\n",
    "mean = np.zeros(p)\n",
    "\n",
    "beta_hat = []\n",
    "\n",
    "X = np.random.multivariate_normal(mean,COV,100)\n",
    "eps = np.random.normal(0,1,(100))\n",
    "eps = eps.reshape(100,1)\n",
    "Y = X.dot(Beta)+eps\n",
    "beta = np.linalg.inv(X.T.dot(X)).dot(X.T).dot(Y)\n",
    "\n",
    "#print (beta)\n",
    "\n",
    "\n",
    "PE = 0\n",
    "for i in range(n):\n",
    "    eps = np.random.normal(0,1,(100))\n",
    "    eps = eps.reshape(100,1)\n",
    "    Y = X.dot(Beta)+eps\n",
    "    PE += np.sum((Y - X.dot(beta))**2)\n",
    "print (PE/n)\n",
    "\n",
    "'''    \n",
    "pe = []\n",
    "for i in range(n):\n",
    "    temp = beta_hat[i]\n",
    "    PE = np.sum((Y-X.dot(temp))**2)\n",
    "    pe.append(PE)\n",
    "pe = np.array(pe)/n\n",
    "\n",
    "#print (np.mean(pe))\n",
    "'''\n"
   ]
  },
  {
   "cell_type": "code",
   "execution_count": null,
   "metadata": {},
   "outputs": [],
   "source": []
  },
  {
   "cell_type": "code",
   "execution_count": 17,
   "metadata": {},
   "outputs": [
    {
     "data": {
      "image/png": "[encoded data removed]",
      "text/plain": [
       "<Figure size 432x288 with 1 Axes>"
      ]
     },
     "metadata": {
      "needs_background": "light"
     },
     "output_type": "display_data"
    }
   ],
   "source": [
    "a=[102.32,106.15,118.33,132.09,173.45]\n",
    "p=[5,10,20,40,80]\n",
    "\n",
    "a = np.array(a)\n",
    "p = np.array(p)\n",
    "a = a.reshape(5,1)\n",
    "p = p.reshape(5,1)\n",
    "\n",
    "#k = np.linalg.inv(p.T.dot(p)).dot(p.T).dot(a)\n",
    "plt.plot(p,a)\n",
    "plt.show()\n"
   ]
  },
  {
   "cell_type": "code",
   "execution_count": 95,
   "metadata": {},
   "outputs": [
    {
     "data": {
      "image/png": "[encoded data removed]",
      "text/plain": [
       "<Figure size 432x288 with 1 Axes>"
      ]
     },
     "metadata": {
      "needs_background": "light"
     },
     "output_type": "display_data"
    },
    {
     "name": "stdout",
     "output_type": "stream",
     "text": [
      "2000\n",
      "181\n"
     ]
    }
   ],
   "source": [
    "# Question 5\n",
    "\n",
    "Beta = np.array([-1,2])\n",
    "Beta = Beta.reshape(2,1)\n",
    "COV = np.array([[1,0.9999],[0.9999,1]])\n",
    "mean = np.zeros(2)\n",
    "lamb = 0.005\n",
    "\n",
    "beta_ols = []\n",
    "beta_rdg = []\n",
    "\n",
    "for i in range(2000):\n",
    "    X = np.random.multivariate_normal(mean,COV,50)\n",
    "    eps = np.random.normal(0,1,(50))\n",
    "    eps = eps.reshape(50,1)\n",
    "    Y = X.dot(Beta)+eps\n",
    "    Beta_ols = np.linalg.inv(X.T.dot(X)).dot(X.T).dot(Y)\n",
    "    beta_ols.append(Beta_ols)\n",
    "    \n",
    "    Beta_rdg = np.linalg.inv(X.T.dot(X)+lamb*np.identity(2)).dot(X.T).dot(Y)\n",
    "    beta_rdg.append(Beta_rdg)\n",
    "    \n",
    "beta_ols = np.array(beta_ols)\n",
    "beta_rdg = np.array(beta_rdg)\n",
    "beta_ols = beta_ols.reshape(2000,2)\n",
    "beta_rdg = beta_rdg.reshape(2000,2)\n",
    "beta_ols_1 = beta_ols[:,0]\n",
    "beta_rdg_1 = beta_rdg[:,0]\n",
    "beta_ols_2 = beta_ols[:,1]\n",
    "beta_rdg_2 = beta_rdg[:,1]\n",
    "\n",
    "n, bins1, patches = plt.hist(beta_ols_1,100, facecolor='blue', alpha=1, label=\"OLS\")\n",
    "n, bins2, patches = plt.hist(beta_rdg_1,100, facecolor='red', alpha=1, label='Ridge')\n",
    "plt.legend()\n",
    "plt.show()\n",
    "\n",
    "\n",
    "beta1 = -1\n",
    "k = 0\n",
    "for i in range(len(beta_ols)):\n",
    "    a = abs(beta1-beta_ols_1[i])\n",
    "    b = abs(beta1-beta_rdg_1[i])\n",
    "    if a<b:\n",
    "        k += 1\n",
    "print (len(beta_ols))\n",
    "print (k)"
   ]
  },
  {
   "cell_type": "code",
   "execution_count": null,
   "metadata": {},
   "outputs": [],
   "source": []
  },
  {
   "cell_type": "code",
   "execution_count": null,
   "metadata": {},
   "outputs": [],
   "source": []
  }
 ],
 "metadata": {
  "kernelspec": {
   "display_name": "Python 3",
   "language": "python",
   "name": "python3"
  },
  "language_info": {
   "codemirror_mode": {
    "name": "ipython",
    "version": 3
   },
   "file_extension": ".py",
   "mimetype": "text/x-python",
   "name": "python",
   "nbconvert_exporter": "python",
   "pygments_lexer": "ipython3",
   "version": "3.7.3"
  }
 },
 "nbformat": 4,
 "nbformat_minor": 2
}
